{
 "cells": [
  {
   "cell_type": "code",
   "execution_count": 2,
   "id": "8f82a5d4",
   "metadata": {},
   "outputs": [],
   "source": [
    "import pandas as pd\n",
    "import numpy as np"
   ]
  },
  {
   "attachments": {},
   "cell_type": "markdown",
   "id": "213f0d84",
   "metadata": {},
   "source": [
    "#### Cleaning the Censo dataset\n",
    "\n",
    "This dataset contains information on the average price of rent in different neighborhoods of Barcelona"
   ]
  },
  {
   "cell_type": "code",
   "execution_count": 3,
   "id": "aca54281",
   "metadata": {
    "scrolled": true
   },
   "outputs": [],
   "source": [
    "# Estimacion del precio mensual de locales commerciales por barrio en años 2011, 2010, 2009, 2008\n",
    "df1 = pd.read_csv('../Datos CSV/locveevolucio.csv')\n",
    "relabel = {'BARRIS': 'NOM', 'DOSZEROONZE': '2011', 'DOSZERODEU': '2010', 'DOSZEROZERONOU': '2009', 'DOSZEROZEROVUIT': '2008'}\n",
    "df1.rename(columns=relabel, inplace=True)\n",
    "df1.drop(columns='DTE', inplace=True)\n",
    "\n",
    "# Function to clean the data\n",
    "def replace_characters(df, columns):\n",
    "    for column in columns:\n",
    "        df[column] = df[column].str.replace('[\\.,]', '')\n",
    "        df[column] = df[column].str.strip()\n",
    "    return df\n",
    "\n",
    "def remove_numbers(df, columns):\n",
    "    for column in columns:\n",
    "        df[column] = df[column].str.replace('\\d', '')\n",
    "        df[column] = df[column].str.strip()\n",
    "    return df\n",
    "\n",
    "import re\n",
    "import emoji\n",
    "\n",
    "def remove_numbers_robust(df, columns):\n",
    "    for column in columns:\n",
    "        # Remove numbers\n",
    "        df[column] = df[column].str.replace('\\d', '')\n",
    "        \n",
    "        # Remove links\n",
    "        df[column] = df[column].apply(lambda text: re.sub(r'http\\S+', '', text))\n",
    "        \n",
    "        # Remove emojis\n",
    "        df[column] = df[column].apply(lambda text: emoji.get_emoji_regexp().sub(r'', text))\n",
    "        \n",
    "        # Strip leading and trailing whitespace\n",
    "        df[column] = df[column].str.strip()\n",
    "    \n",
    "    return df\n"
   ]
  },
  {
   "cell_type": "code",
   "execution_count": 4,
   "id": "e5405327",
   "metadata": {},
   "outputs": [
    {
     "name": "stderr",
     "output_type": "stream",
     "text": [
      "/var/folders/hp/ytf1kqk92hd11vlmtk9zz38r0000gn/T/ipykernel_89426/2070660899.py:10: FutureWarning: The default value of regex will change from True to False in a future version.\n",
      "  df[column] = df[column].str.replace('[\\.,]', '')\n",
      "/var/folders/hp/ytf1kqk92hd11vlmtk9zz38r0000gn/T/ipykernel_89426/2070660899.py:16: FutureWarning: The default value of regex will change from True to False in a future version.\n",
      "  df[column] = df[column].str.replace('\\d', '')\n"
     ]
    }
   ],
   "source": [
    "# Cleaning the data, applying the functions\n",
    "replace_characters(df1, ['NOM', '2011', '2010', '2009', '2008'])\n",
    "remove_numbers(df1, ['NOM'])\n",
    "\n",
    "df1 = df1[~(df1 == '--').any(axis=1)]\n",
    "# Correct data types\n",
    "df1[['2011', '2010', '2009', '2008']] = df1[['2011', '2010', '2009', '2008']].astype(int)\n",
    "\n",
    "df1['price level'] = df1['2011'] - df1['2011'].mean()"
   ]
  },
  {
   "cell_type": "code",
   "execution_count": 5,
   "id": "a2664a49",
   "metadata": {},
   "outputs": [],
   "source": [
    "# df1.to_csv('../Datos CSV/precios_clean.csv', index=False)"
   ]
  },
  {
   "attachments": {},
   "cell_type": "markdown",
   "id": "27676275",
   "metadata": {},
   "source": [
    "### Censo Comercial Dataset"
   ]
  },
  {
   "cell_type": "code",
   "execution_count": 6,
   "id": "1e96e6c1",
   "metadata": {},
   "outputs": [
    {
     "name": "stderr",
     "output_type": "stream",
     "text": [
      "/Users/joaquinortega/.pyenv/versions/3.10.6/envs/lewagon/lib/python3.10/site-packages/IPython/core/interactiveshell.py:3505: DtypeWarning: Columns (35,37) have mixed types.Specify dtype option on import or set low_memory=False.\n",
      "  exec(code_obj, self.user_global_ns, self.user_ns)\n"
     ]
    }
   ],
   "source": [
    "# Load dataset\n",
    "df2 = pd.read_csv('../Datos CSV/2019_censcomercialbcn_detall.csv')\n",
    "\n",
    "# Apply column selection, rename columns and replace values\n",
    "# direccion = 'Codi_Via', 'Nom_Via', 'Planta', 'Porta','Lletra_Inicial'\n",
    "censo_cols = ['ID_Bcn_2019','Nom_Principal_Activitat','Nom_Activitat','Nom_Sector_Activitat','Nom_Grup_Activitat','Nom_Local','Latitud','Longitud','Nom_Districte', 'Nom_Barri']\n",
    "censo_clean = pd.DataFrame(df2[censo_cols])\n",
    "censo_clean.rename(columns={'Nom_Principal_Activitat':'Actividad Economica','Nom_Activitat':'Nombre de Actividad', 'Nom_Barri': 'Nombre del Barrio'}, inplace=True)\n",
    "censo_clean['Actividad Economica'].replace({'Actiu': 'For Profit', 'Sense activitat Econòmica': 'Non Profit'}, inplace=True)"
   ]
  },
  {
   "cell_type": "code",
   "execution_count": 7,
   "id": "312d4d04",
   "metadata": {},
   "outputs": [],
   "source": [
    "first_lambda = ['Sense informació','altres','Altres ( per exemple VENDING)', 'Altres']\n",
    "# Cambiar con la tercera columna - Nom_Grup_Activitat = First Lambda\n",
    "censo_clean['Nombre de Actividad'] = censo_clean.apply(lambda row: row['Nom_Grup_Activitat'] if row['Nombre de Actividad'] in first_lambda else row['Nombre de Actividad'], axis=1)\n",
    "# Cambiar con la segunda columna - Nom_Sector_Activitat\n",
    "censo_clean['Nombre de Actividad'] = censo_clean.apply(lambda row: row['Nom_Sector_Activitat'] if row['Nombre de Actividad'] in first_lambda else row['Nombre de Actividad'], axis=1)"
   ]
  },
  {
   "cell_type": "code",
   "execution_count": 8,
   "id": "6b448095",
   "metadata": {},
   "outputs": [],
   "source": [
    "# pd.set_option('display.max_rows', None)\n",
    "# censo_clean['Nombre de Actividad'].value_counts()"
   ]
  },
  {
   "cell_type": "code",
   "execution_count": 9,
   "id": "7d7dd82c",
   "metadata": {},
   "outputs": [],
   "source": [
    "drop_cols = ['Actividad Economica','ID_Bcn_2019', 'Nom_Sector_Activitat', 'Nom_Grup_Activitat', 'Nom_Districte']\n",
    "censo_clean.drop(columns=drop_cols, inplace=True)"
   ]
  },
  {
   "cell_type": "code",
   "execution_count": 10,
   "id": "56577d36",
   "metadata": {},
   "outputs": [
    {
     "data": {
      "text/html": [
       "<div>\n",
       "<style scoped>\n",
       "    .dataframe tbody tr th:only-of-type {\n",
       "        vertical-align: middle;\n",
       "    }\n",
       "\n",
       "    .dataframe tbody tr th {\n",
       "        vertical-align: top;\n",
       "    }\n",
       "\n",
       "    .dataframe thead th {\n",
       "        text-align: right;\n",
       "    }\n",
       "</style>\n",
       "<table border=\"1\" class=\"dataframe\">\n",
       "  <thead>\n",
       "    <tr style=\"text-align: right;\">\n",
       "      <th></th>\n",
       "      <th>name_spanish</th>\n",
       "      <th>name_english</th>\n",
       "    </tr>\n",
       "  </thead>\n",
       "  <tbody>\n",
       "    <tr>\n",
       "      <th>0</th>\n",
       "      <td>Serveis a les empreses i oficines</td>\n",
       "      <td></td>\n",
       "    </tr>\n",
       "    <tr>\n",
       "      <th>1</th>\n",
       "      <td>Activitats emmagatzematge</td>\n",
       "      <td></td>\n",
       "    </tr>\n",
       "    <tr>\n",
       "      <th>2</th>\n",
       "      <td>Administració</td>\n",
       "      <td></td>\n",
       "    </tr>\n",
       "    <tr>\n",
       "      <th>3</th>\n",
       "      <td>Activitats de transport</td>\n",
       "      <td></td>\n",
       "    </tr>\n",
       "    <tr>\n",
       "      <th>4</th>\n",
       "      <td>Vehicles</td>\n",
       "      <td></td>\n",
       "    </tr>\n",
       "    <tr>\n",
       "      <th>...</th>\n",
       "      <td>...</td>\n",
       "      <td>...</td>\n",
       "    </tr>\n",
       "    <tr>\n",
       "      <th>80</th>\n",
       "      <td>Locutoris</td>\n",
       "      <td></td>\n",
       "    </tr>\n",
       "    <tr>\n",
       "      <th>81</th>\n",
       "      <td>Maquinària</td>\n",
       "      <td></td>\n",
       "    </tr>\n",
       "    <tr>\n",
       "      <th>82</th>\n",
       "      <td>Esports</td>\n",
       "      <td></td>\n",
       "    </tr>\n",
       "    <tr>\n",
       "      <th>83</th>\n",
       "      <td>Òptiques i fotografia</td>\n",
       "      <td></td>\n",
       "    </tr>\n",
       "    <tr>\n",
       "      <th>84</th>\n",
       "      <td>Restaurants, bars i hotels (Inclòs hostals, pe...</td>\n",
       "      <td></td>\n",
       "    </tr>\n",
       "  </tbody>\n",
       "</table>\n",
       "<p>85 rows × 2 columns</p>\n",
       "</div>"
      ],
      "text/plain": [
       "                                         name_spanish name_english\n",
       "0                   Serveis a les empreses i oficines             \n",
       "1                           Activitats emmagatzematge             \n",
       "2                                       Administració             \n",
       "3                            Activitats de transport              \n",
       "4                                            Vehicles             \n",
       "..                                                ...          ...\n",
       "80                                          Locutoris             \n",
       "81                                         Maquinària             \n",
       "82                                            Esports             \n",
       "83                              Òptiques i fotografia             \n",
       "84  Restaurants, bars i hotels (Inclòs hostals, pe...             \n",
       "\n",
       "[85 rows x 2 columns]"
      ]
     },
     "execution_count": 10,
     "metadata": {},
     "output_type": "execute_result"
    }
   ],
   "source": [
    "trad_df = pd.DataFrame(censo_clean['Nombre de Actividad'].unique())\n",
    "trad_df['name_english'] = ''\n",
    "trad_df.rename(columns={0: 'name_spanish'}, inplace=True)\n",
    "trad_df"
   ]
  },
  {
   "cell_type": "code",
   "execution_count": 11,
   "id": "445fee7c",
   "metadata": {},
   "outputs": [
    {
     "ename": "NameError",
     "evalue": "name 'a_traducir' is not defined",
     "output_type": "error",
     "traceback": [
      "\u001b[0;31m---------------------------------------------------------------------------\u001b[0m",
      "\u001b[0;31mNameError\u001b[0m                                 Traceback (most recent call last)",
      "Cell \u001b[0;32mIn[11], line 9\u001b[0m\n\u001b[1;32m      6\u001b[0m     translated_text \u001b[39m=\u001b[39m translator\u001b[39m.\u001b[39mtranslate(text)\n\u001b[1;32m      7\u001b[0m     \u001b[39mreturn\u001b[39;00m translated_text\n\u001b[0;32m----> 9\u001b[0m total_rows \u001b[39m=\u001b[39m \u001b[39mlen\u001b[39m(a_traducir)\n\u001b[1;32m     10\u001b[0m tqdm\u001b[39m.\u001b[39mpandas(total\u001b[39m=\u001b[39mtotal_rows)  \u001b[39m# Initialize tqdm with total rows\u001b[39;00m\n",
      "\u001b[0;31mNameError\u001b[0m: name 'a_traducir' is not defined"
     ]
    }
   ],
   "source": [
    "# from translate import Translator\n",
    "# from tqdm import tqdm\n",
    "\n",
    "# def translate_catalan_to_english(text):\n",
    "#     translator = Translator(from_lang='ca', to_lang='en')\n",
    "#     translated_text = translator.translate(text)\n",
    "#     return translated_text\n",
    "\n",
    "# total_rows = len(a_traducir)\n",
    "# tqdm.pandas(total=total_rows)  # Initialize tqdm with total rows"
   ]
  },
  {
   "cell_type": "code",
   "execution_count": 12,
   "id": "b277a3b1",
   "metadata": {},
   "outputs": [
    {
     "ename": "AttributeError",
     "evalue": "'Series' object has no attribute 'progress_apply'",
     "output_type": "error",
     "traceback": [
      "\u001b[0;31m---------------------------------------------------------------------------\u001b[0m",
      "\u001b[0;31mAttributeError\u001b[0m                            Traceback (most recent call last)",
      "Cell \u001b[0;32mIn[12], line 1\u001b[0m\n\u001b[0;32m----> 1\u001b[0m trad_df[\u001b[39m'\u001b[39m\u001b[39mname_english\u001b[39m\u001b[39m'\u001b[39m] \u001b[39m=\u001b[39m trad_df[\u001b[39m'\u001b[39;49m\u001b[39mname_spanish\u001b[39;49m\u001b[39m'\u001b[39;49m]\u001b[39m.\u001b[39;49mprogress_apply(translate_catalan_to_english)\n",
      "File \u001b[0;32m~/.pyenv/versions/3.10.6/envs/lewagon/lib/python3.10/site-packages/pandas/core/generic.py:5487\u001b[0m, in \u001b[0;36mNDFrame.__getattr__\u001b[0;34m(self, name)\u001b[0m\n\u001b[1;32m   5480\u001b[0m \u001b[39mif\u001b[39;00m (\n\u001b[1;32m   5481\u001b[0m     name \u001b[39mnot\u001b[39;00m \u001b[39min\u001b[39;00m \u001b[39mself\u001b[39m\u001b[39m.\u001b[39m_internal_names_set\n\u001b[1;32m   5482\u001b[0m     \u001b[39mand\u001b[39;00m name \u001b[39mnot\u001b[39;00m \u001b[39min\u001b[39;00m \u001b[39mself\u001b[39m\u001b[39m.\u001b[39m_metadata\n\u001b[1;32m   5483\u001b[0m     \u001b[39mand\u001b[39;00m name \u001b[39mnot\u001b[39;00m \u001b[39min\u001b[39;00m \u001b[39mself\u001b[39m\u001b[39m.\u001b[39m_accessors\n\u001b[1;32m   5484\u001b[0m     \u001b[39mand\u001b[39;00m \u001b[39mself\u001b[39m\u001b[39m.\u001b[39m_info_axis\u001b[39m.\u001b[39m_can_hold_identifiers_and_holds_name(name)\n\u001b[1;32m   5485\u001b[0m ):\n\u001b[1;32m   5486\u001b[0m     \u001b[39mreturn\u001b[39;00m \u001b[39mself\u001b[39m[name]\n\u001b[0;32m-> 5487\u001b[0m \u001b[39mreturn\u001b[39;00m \u001b[39mobject\u001b[39;49m\u001b[39m.\u001b[39;49m\u001b[39m__getattribute__\u001b[39;49m(\u001b[39mself\u001b[39;49m, name)\n",
      "\u001b[0;31mAttributeError\u001b[0m: 'Series' object has no attribute 'progress_apply'"
     ]
    }
   ],
   "source": [
    "# trad_df['name_english'] = trad_df['name_spanish'].progress_apply(translate_catalan_to_english)"
   ]
  },
  {
   "cell_type": "code",
   "execution_count": 13,
   "id": "a5edb062",
   "metadata": {},
   "outputs": [
    {
     "data": {
      "text/html": [
       "<div>\n",
       "<style scoped>\n",
       "    .dataframe tbody tr th:only-of-type {\n",
       "        vertical-align: middle;\n",
       "    }\n",
       "\n",
       "    .dataframe tbody tr th {\n",
       "        vertical-align: top;\n",
       "    }\n",
       "\n",
       "    .dataframe thead th {\n",
       "        text-align: right;\n",
       "    }\n",
       "</style>\n",
       "<table border=\"1\" class=\"dataframe\">\n",
       "  <thead>\n",
       "    <tr style=\"text-align: right;\">\n",
       "      <th></th>\n",
       "      <th>Nombre de Actividad</th>\n",
       "      <th>all_names_english</th>\n",
       "    </tr>\n",
       "  </thead>\n",
       "  <tbody>\n",
       "    <tr>\n",
       "      <th>0</th>\n",
       "      <td>Serveis a les empreses i oficines</td>\n",
       "      <td></td>\n",
       "    </tr>\n",
       "    <tr>\n",
       "      <th>1</th>\n",
       "      <td>Activitats emmagatzematge</td>\n",
       "      <td></td>\n",
       "    </tr>\n",
       "    <tr>\n",
       "      <th>2</th>\n",
       "      <td>Serveis a les empreses i oficines</td>\n",
       "      <td></td>\n",
       "    </tr>\n",
       "  </tbody>\n",
       "</table>\n",
       "</div>"
      ],
      "text/plain": [
       "                 Nombre de Actividad all_names_english\n",
       "0  Serveis a les empreses i oficines                  \n",
       "1          Activitats emmagatzematge                  \n",
       "2  Serveis a les empreses i oficines                  "
      ]
     },
     "execution_count": 13,
     "metadata": {},
     "output_type": "execute_result"
    }
   ],
   "source": [
    "trad_complete = pd.DataFrame(censo_clean['Nombre de Actividad'])\n",
    "trad_complete['all_names_english'] = ''\n",
    "trad_complete.head(3)"
   ]
  },
  {
   "cell_type": "code",
   "execution_count": 14,
   "id": "ff2c8d99",
   "metadata": {},
   "outputs": [
    {
     "name": "stderr",
     "output_type": "stream",
     "text": [
      "Progress:   2%|▏         | 1365/80554 [00:02<02:16, 579.09it/s]\n"
     ]
    },
    {
     "ename": "KeyboardInterrupt",
     "evalue": "",
     "output_type": "error",
     "traceback": [
      "\u001b[0;31m---------------------------------------------------------------------------\u001b[0m",
      "\u001b[0;31mKeyboardInterrupt\u001b[0m                         Traceback (most recent call last)",
      "Cell \u001b[0;32mIn[14], line 12\u001b[0m\n\u001b[1;32m     10\u001b[0m         \u001b[39mif\u001b[39;00m \u001b[39mlen\u001b[39m(matching_index) \u001b[39m>\u001b[39m \u001b[39m0\u001b[39m:\n\u001b[1;32m     11\u001b[0m             matching_english \u001b[39m=\u001b[39m trad_df\u001b[39m.\u001b[39mloc[matching_index, \u001b[39m'\u001b[39m\u001b[39mname_english\u001b[39m\u001b[39m'\u001b[39m]\u001b[39m.\u001b[39mvalues[\u001b[39m0\u001b[39m]\n\u001b[0;32m---> 12\u001b[0m             trad_complete\u001b[39m.\u001b[39;49mloc[i, \u001b[39m'\u001b[39;49m\u001b[39mall_names_english\u001b[39;49m\u001b[39m'\u001b[39;49m] \u001b[39m=\u001b[39m matching_english\n\u001b[1;32m     14\u001b[0m         pbar\u001b[39m.\u001b[39mupdate(\u001b[39m1\u001b[39m)\n\u001b[1;32m     16\u001b[0m \u001b[39mprint\u001b[39m(trad_complete)\n",
      "File \u001b[0;32m~/.pyenv/versions/3.10.6/envs/lewagon/lib/python3.10/site-packages/pandas/core/indexing.py:723\u001b[0m, in \u001b[0;36m_LocationIndexer.__setitem__\u001b[0;34m(self, key, value)\u001b[0m\n\u001b[1;32m    720\u001b[0m \u001b[39mself\u001b[39m\u001b[39m.\u001b[39m_has_valid_setitem_indexer(key)\n\u001b[1;32m    722\u001b[0m iloc \u001b[39m=\u001b[39m \u001b[39mself\u001b[39m \u001b[39mif\u001b[39;00m \u001b[39mself\u001b[39m\u001b[39m.\u001b[39mname \u001b[39m==\u001b[39m \u001b[39m\"\u001b[39m\u001b[39miloc\u001b[39m\u001b[39m\"\u001b[39m \u001b[39melse\u001b[39;00m \u001b[39mself\u001b[39m\u001b[39m.\u001b[39mobj\u001b[39m.\u001b[39miloc\n\u001b[0;32m--> 723\u001b[0m iloc\u001b[39m.\u001b[39;49m_setitem_with_indexer(indexer, value, \u001b[39mself\u001b[39;49m\u001b[39m.\u001b[39;49mname)\n",
      "File \u001b[0;32m~/.pyenv/versions/3.10.6/envs/lewagon/lib/python3.10/site-packages/pandas/core/indexing.py:1730\u001b[0m, in \u001b[0;36m_iLocIndexer._setitem_with_indexer\u001b[0;34m(self, indexer, value, name)\u001b[0m\n\u001b[1;32m   1727\u001b[0m \u001b[39m# align and set the values\u001b[39;00m\n\u001b[1;32m   1728\u001b[0m \u001b[39mif\u001b[39;00m take_split_path:\n\u001b[1;32m   1729\u001b[0m     \u001b[39m# We have to operate column-wise\u001b[39;00m\n\u001b[0;32m-> 1730\u001b[0m     \u001b[39mself\u001b[39;49m\u001b[39m.\u001b[39;49m_setitem_with_indexer_split_path(indexer, value, name)\n\u001b[1;32m   1731\u001b[0m \u001b[39melse\u001b[39;00m:\n\u001b[1;32m   1732\u001b[0m     \u001b[39mself\u001b[39m\u001b[39m.\u001b[39m_setitem_single_block(indexer, value, name)\n",
      "File \u001b[0;32m~/.pyenv/versions/3.10.6/envs/lewagon/lib/python3.10/site-packages/pandas/core/indexing.py:1817\u001b[0m, in \u001b[0;36m_iLocIndexer._setitem_with_indexer_split_path\u001b[0;34m(self, indexer, value, name)\u001b[0m\n\u001b[1;32m   1813\u001b[0m \u001b[39melse\u001b[39;00m:\n\u001b[1;32m   1814\u001b[0m \n\u001b[1;32m   1815\u001b[0m     \u001b[39m# scalar value\u001b[39;00m\n\u001b[1;32m   1816\u001b[0m     \u001b[39mfor\u001b[39;00m loc \u001b[39min\u001b[39;00m ilocs:\n\u001b[0;32m-> 1817\u001b[0m         \u001b[39mself\u001b[39;49m\u001b[39m.\u001b[39;49m_setitem_single_column(loc, value, pi)\n",
      "File \u001b[0;32m~/.pyenv/versions/3.10.6/envs/lewagon/lib/python3.10/site-packages/pandas/core/indexing.py:1924\u001b[0m, in \u001b[0;36m_iLocIndexer._setitem_single_column\u001b[0;34m(self, loc, value, plane_indexer)\u001b[0m\n\u001b[1;32m   1921\u001b[0m     ser\u001b[39m.\u001b[39m_maybe_update_cacher(clear\u001b[39m=\u001b[39m\u001b[39mTrue\u001b[39;00m)\n\u001b[1;32m   1923\u001b[0m \u001b[39m# reset the sliced object if unique\u001b[39;00m\n\u001b[0;32m-> 1924\u001b[0m \u001b[39mself\u001b[39;49m\u001b[39m.\u001b[39;49mobj\u001b[39m.\u001b[39;49m_iset_item(loc, ser)\n",
      "File \u001b[0;32m~/.pyenv/versions/3.10.6/envs/lewagon/lib/python3.10/site-packages/pandas/core/frame.py:3766\u001b[0m, in \u001b[0;36mDataFrame._iset_item\u001b[0;34m(self, loc, value)\u001b[0m\n\u001b[1;32m   3764\u001b[0m \u001b[39mdef\u001b[39;00m \u001b[39m_iset_item\u001b[39m(\u001b[39mself\u001b[39m, loc: \u001b[39mint\u001b[39m, value) \u001b[39m-\u001b[39m\u001b[39m>\u001b[39m \u001b[39mNone\u001b[39;00m:\n\u001b[1;32m   3765\u001b[0m     arraylike \u001b[39m=\u001b[39m \u001b[39mself\u001b[39m\u001b[39m.\u001b[39m_sanitize_column(value)\n\u001b[0;32m-> 3766\u001b[0m     \u001b[39mself\u001b[39;49m\u001b[39m.\u001b[39;49m_iset_item_mgr(loc, arraylike)\n\u001b[1;32m   3768\u001b[0m     \u001b[39m# check if we are modifying a copy\u001b[39;00m\n\u001b[1;32m   3769\u001b[0m     \u001b[39m# try to set first as we want an invalid\u001b[39;00m\n\u001b[1;32m   3770\u001b[0m     \u001b[39m# value exception to occur first\u001b[39;00m\n\u001b[1;32m   3771\u001b[0m     \u001b[39mif\u001b[39;00m \u001b[39mlen\u001b[39m(\u001b[39mself\u001b[39m):\n",
      "File \u001b[0;32m~/.pyenv/versions/3.10.6/envs/lewagon/lib/python3.10/site-packages/pandas/core/frame.py:3746\u001b[0m, in \u001b[0;36mDataFrame._iset_item_mgr\u001b[0;34m(self, loc, value)\u001b[0m\n\u001b[1;32m   3744\u001b[0m \u001b[39mdef\u001b[39;00m \u001b[39m_iset_item_mgr\u001b[39m(\u001b[39mself\u001b[39m, loc: \u001b[39mint\u001b[39m \u001b[39m|\u001b[39m \u001b[39mslice\u001b[39m \u001b[39m|\u001b[39m np\u001b[39m.\u001b[39mndarray, value) \u001b[39m-\u001b[39m\u001b[39m>\u001b[39m \u001b[39mNone\u001b[39;00m:\n\u001b[1;32m   3745\u001b[0m     \u001b[39m# when called from _set_item_mgr loc can be anything returned from get_loc\u001b[39;00m\n\u001b[0;32m-> 3746\u001b[0m     \u001b[39mself\u001b[39;49m\u001b[39m.\u001b[39;49m_mgr\u001b[39m.\u001b[39;49miset(loc, value)\n\u001b[1;32m   3747\u001b[0m     \u001b[39mself\u001b[39m\u001b[39m.\u001b[39m_clear_item_cache()\n",
      "File \u001b[0;32m~/.pyenv/versions/3.10.6/envs/lewagon/lib/python3.10/site-packages/pandas/core/internals/managers.py:1078\u001b[0m, in \u001b[0;36mBlockManager.iset\u001b[0;34m(self, loc, value)\u001b[0m\n\u001b[1;32m   1076\u001b[0m blk_locs \u001b[39m=\u001b[39m blklocs[val_locs\u001b[39m.\u001b[39mindexer]\n\u001b[1;32m   1077\u001b[0m \u001b[39mif\u001b[39;00m blk\u001b[39m.\u001b[39mshould_store(value):\n\u001b[0;32m-> 1078\u001b[0m     blk\u001b[39m.\u001b[39;49mset_inplace(blk_locs, value_getitem(val_locs))\n\u001b[1;32m   1079\u001b[0m \u001b[39melse\u001b[39;00m:\n\u001b[1;32m   1080\u001b[0m     unfit_mgr_locs\u001b[39m.\u001b[39mappend(blk\u001b[39m.\u001b[39mmgr_locs\u001b[39m.\u001b[39mas_array[blk_locs])\n",
      "\u001b[0;31mKeyboardInterrupt\u001b[0m: "
     ]
    }
   ],
   "source": [
    "# Assuming `trad_complete` and `trad_df` are DataFrames with the respective columns\n",
    "\n",
    "trad_complete['all_names_english'] = ''\n",
    "\n",
    "total_rows = len(trad_complete)\n",
    "with tqdm(total=total_rows, desc='Progress') as pbar:\n",
    "    for i, activity_name in trad_complete['Nombre de Actividad'].iteritems():\n",
    "        matching_index = trad_df[trad_df['name_spanish'] == activity_name].index\n",
    "\n",
    "        if len(matching_index) > 0:\n",
    "            matching_english = trad_df.loc[matching_index, 'name_english'].values[0]\n",
    "            trad_complete.loc[i, 'all_names_english'] = matching_english\n",
    "\n",
    "        pbar.update(1)\n",
    "\n",
    "print(trad_complete)"
   ]
  },
  {
   "cell_type": "code",
   "execution_count": 345,
   "id": "2dd8fb55",
   "metadata": {},
   "outputs": [],
   "source": [
    "english_censo_df= trad_complete.merge(censo_clean, left_index=True, right_index=True)"
   ]
  },
  {
   "cell_type": "code",
   "execution_count": 351,
   "id": "c6c482a7",
   "metadata": {},
   "outputs": [],
   "source": [
    "# Code to check translation went well for the big_df\n",
    "# counter = 0\n",
    "# for i in range(1, len(english_censo_df)):\n",
    "#     if english_censo_df['Nombre de Actividad_y'][i] == english_censo_df['Nombre de Actividad_x'][i]:\n",
    "#         counter += 1\n",
    "#     pass"
   ]
  },
  {
   "cell_type": "code",
   "execution_count": 360,
   "id": "55e38f7e",
   "metadata": {},
   "outputs": [],
   "source": [
    "# english_censo_df.drop(columns=['Nombre de Actividad_y'], inplace=True)\n",
    "english_censo_df.rename(columns={'Nombre de Actividad_x': 'Nombre de Actividad','all_names_english':'Name of Activity'}, inplace=True)"
   ]
  },
  {
   "cell_type": "code",
   "execution_count": 362,
   "id": "e5b2d8a1",
   "metadata": {},
   "outputs": [
    {
     "data": {
      "text/html": [
       "<div>\n",
       "<style scoped>\n",
       "    .dataframe tbody tr th:only-of-type {\n",
       "        vertical-align: middle;\n",
       "    }\n",
       "\n",
       "    .dataframe tbody tr th {\n",
       "        vertical-align: top;\n",
       "    }\n",
       "\n",
       "    .dataframe thead th {\n",
       "        text-align: right;\n",
       "    }\n",
       "</style>\n",
       "<table border=\"1\" class=\"dataframe\">\n",
       "  <thead>\n",
       "    <tr style=\"text-align: right;\">\n",
       "      <th></th>\n",
       "      <th>Name of Activity</th>\n",
       "      <th>Nom_Local</th>\n",
       "      <th>Latitud</th>\n",
       "      <th>Longitud</th>\n",
       "      <th>Nombre del Barrio</th>\n",
       "    </tr>\n",
       "  </thead>\n",
       "  <tbody>\n",
       "    <tr>\n",
       "      <th>0</th>\n",
       "      <td>Services to companies and offices</td>\n",
       "      <td>SORIGUE</td>\n",
       "      <td>41.346101</td>\n",
       "      <td>2.130166</td>\n",
       "      <td>la Marina del Prat Vermell</td>\n",
       "    </tr>\n",
       "    <tr>\n",
       "      <th>1</th>\n",
       "      <td>Storage activities</td>\n",
       "      <td>CEJIDOS SIVILA S.A</td>\n",
       "      <td>41.345939</td>\n",
       "      <td>2.129560</td>\n",
       "      <td>la Marina del Prat Vermell</td>\n",
       "    </tr>\n",
       "    <tr>\n",
       "      <th>2</th>\n",
       "      <td>Services to companies and offices</td>\n",
       "      <td>QUALITY ESPRESO</td>\n",
       "      <td>41.345591</td>\n",
       "      <td>2.128543</td>\n",
       "      <td>la Marina del Prat Vermell</td>\n",
       "    </tr>\n",
       "    <tr>\n",
       "      <th>3</th>\n",
       "      <td>Administration</td>\n",
       "      <td>CLD</td>\n",
       "      <td>41.346262</td>\n",
       "      <td>2.130599</td>\n",
       "      <td>la Marina del Prat Vermell</td>\n",
       "    </tr>\n",
       "    <tr>\n",
       "      <th>4</th>\n",
       "      <td>Transport activities</td>\n",
       "      <td>CATALANA DEL BUTANO,S.A</td>\n",
       "      <td>41.346514</td>\n",
       "      <td>2.131271</td>\n",
       "      <td>la Marina del Prat Vermell</td>\n",
       "    </tr>\n",
       "    <tr>\n",
       "      <th>...</th>\n",
       "      <td>...</td>\n",
       "      <td>...</td>\n",
       "      <td>...</td>\n",
       "      <td>...</td>\n",
       "      <td>...</td>\n",
       "    </tr>\n",
       "    <tr>\n",
       "      <th>80549</th>\n",
       "      <td>Other sports facilities</td>\n",
       "      <td>COSTURART</td>\n",
       "      <td>41.422618</td>\n",
       "      <td>2.177690</td>\n",
       "      <td>el Guinardó</td>\n",
       "    </tr>\n",
       "    <tr>\n",
       "      <th>80550</th>\n",
       "      <td>Transport activities</td>\n",
       "      <td>ABRILBIKE</td>\n",
       "      <td>41.399403</td>\n",
       "      <td>2.178403</td>\n",
       "      <td>el Fort Pienc</td>\n",
       "    </tr>\n",
       "    <tr>\n",
       "      <th>80551</th>\n",
       "      <td>Other sports facilities</td>\n",
       "      <td>FUTBOL SALA VALLDAURA</td>\n",
       "      <td>41.441363</td>\n",
       "      <td>2.161877</td>\n",
       "      <td>Horta</td>\n",
       "    </tr>\n",
       "    <tr>\n",
       "      <th>80552</th>\n",
       "      <td>Religious facilities</td>\n",
       "      <td>ESGLESIA ORTODOXA PATRIARCAT DE SERBIA</td>\n",
       "      <td>41.387255</td>\n",
       "      <td>2.158082</td>\n",
       "      <td>l'Antiga Esquerra de l'Eixample</td>\n",
       "    </tr>\n",
       "    <tr>\n",
       "      <th>80553</th>\n",
       "      <td>Services to companies and offices</td>\n",
       "      <td>FA ASSESSORS</td>\n",
       "      <td>41.391743</td>\n",
       "      <td>2.144485</td>\n",
       "      <td>l'Antiga Esquerra de l'Eixample</td>\n",
       "    </tr>\n",
       "  </tbody>\n",
       "</table>\n",
       "<p>80554 rows × 5 columns</p>\n",
       "</div>"
      ],
      "text/plain": [
       "                        Name of Activity  \\\n",
       "0      Services to companies and offices   \n",
       "1                     Storage activities   \n",
       "2      Services to companies and offices   \n",
       "3                         Administration   \n",
       "4                   Transport activities   \n",
       "...                                  ...   \n",
       "80549            Other sports facilities   \n",
       "80550               Transport activities   \n",
       "80551            Other sports facilities   \n",
       "80552               Religious facilities   \n",
       "80553  Services to companies and offices   \n",
       "\n",
       "                                    Nom_Local    Latitud  Longitud  \\\n",
       "0                                     SORIGUE  41.346101  2.130166   \n",
       "1                          CEJIDOS SIVILA S.A  41.345939  2.129560   \n",
       "2                             QUALITY ESPRESO  41.345591  2.128543   \n",
       "3                                         CLD  41.346262  2.130599   \n",
       "4                     CATALANA DEL BUTANO,S.A  41.346514  2.131271   \n",
       "...                                       ...        ...       ...   \n",
       "80549                               COSTURART  41.422618  2.177690   \n",
       "80550                               ABRILBIKE  41.399403  2.178403   \n",
       "80551                   FUTBOL SALA VALLDAURA  41.441363  2.161877   \n",
       "80552  ESGLESIA ORTODOXA PATRIARCAT DE SERBIA  41.387255  2.158082   \n",
       "80553                            FA ASSESSORS  41.391743  2.144485   \n",
       "\n",
       "                     Nombre del Barrio  \n",
       "0           la Marina del Prat Vermell  \n",
       "1           la Marina del Prat Vermell  \n",
       "2           la Marina del Prat Vermell  \n",
       "3           la Marina del Prat Vermell  \n",
       "4           la Marina del Prat Vermell  \n",
       "...                                ...  \n",
       "80549                      el Guinardó  \n",
       "80550                    el Fort Pienc  \n",
       "80551                            Horta  \n",
       "80552  l'Antiga Esquerra de l'Eixample  \n",
       "80553  l'Antiga Esquerra de l'Eixample  \n",
       "\n",
       "[80554 rows x 5 columns]"
      ]
     },
     "execution_count": 362,
     "metadata": {},
     "output_type": "execute_result"
    }
   ],
   "source": [
    "english_censo_df.drop(columns=['Nombre de Actividad'], inplace=True)\n",
    "english_censo_df"
   ]
  },
  {
   "cell_type": "code",
   "execution_count": 364,
   "id": "4fb48c66",
   "metadata": {},
   "outputs": [],
   "source": [
    "english_censo_df.to_csv('../Datos CSV/english_censo_clean.csv', index=False)"
   ]
  },
  {
   "cell_type": "code",
   "execution_count": 22,
   "id": "9fede68b",
   "metadata": {},
   "outputs": [],
   "source": [
    "# censo_clean.to_json('../JSON listos/censo_clean.json', orient='records')  "
   ]
  },
  {
   "attachments": {},
   "cell_type": "markdown",
   "id": "298c1a1c",
   "metadata": {},
   "source": [
    "### CSV Centro Comercial"
   ]
  },
  {
   "cell_type": "code",
   "execution_count": 130,
   "id": "93d038f1",
   "metadata": {},
   "outputs": [],
   "source": [
    "# Load the CSV - Centro Comercial\n",
    "centros_comerciales = pd.read_csv('../Datos CSV/opendatagrans-centres-comercials.csv', encoding='utf-16')\n",
    "# Add new column for categorization\n",
    "centros_comerciales['Tipo_Centro_Comercio'] = 'Centro Comercial'"
   ]
  },
  {
   "attachments": {},
   "cell_type": "markdown",
   "id": "0f22c489",
   "metadata": {},
   "source": [
    "### Galerias Comerciales"
   ]
  },
  {
   "cell_type": "code",
   "execution_count": 132,
   "id": "9794a041",
   "metadata": {},
   "outputs": [],
   "source": [
    "# Load the CSV - Galerias Comerciales\n",
    "galerias = pd.read_csv('../Datos CSV/opendata_galeries-comercials.csv', encoding='utf-16')\n",
    "# Add new column for categorization - Galerias Comerciales\n",
    "galerias['Tipo_Centro_Comercio'] = 'Galeria Comercial'"
   ]
  },
  {
   "attachments": {},
   "cell_type": "markdown",
   "id": "299a076f",
   "metadata": {},
   "source": [
    "### Mercats Fires al Carrer"
   ]
  },
  {
   "cell_type": "code",
   "execution_count": 134,
   "id": "75d94b8f",
   "metadata": {},
   "outputs": [],
   "source": [
    "# Add new column for categorization - Galerias Comerciales\n",
    "mercats_fires = pd.read_csv('../Datos CSV/opendata_mercats-fires-al-carrer.csv', encoding='utf-16')\n",
    "mercats_fires['Tipo_Centro_Comercio'] = 'Feria'"
   ]
  },
  {
   "attachments": {},
   "cell_type": "markdown",
   "id": "6b56e7a4",
   "metadata": {},
   "source": [
    "### Mercados Municipales"
   ]
  },
  {
   "cell_type": "code",
   "execution_count": 136,
   "id": "e9219981",
   "metadata": {},
   "outputs": [],
   "source": [
    "mercats_municipals = pd.read_csv('../Datos CSV/opendata_mercats-municipals.csv', encoding='utf-16')\n",
    "mercats_municipals['Tipo_Centro_Comercio'] = 'Mercado Municipal'"
   ]
  },
  {
   "attachments": {},
   "cell_type": "markdown",
   "id": "d50b5695",
   "metadata": {},
   "source": [
    "### Concatenation of Centros de Comercio"
   ]
  },
  {
   "cell_type": "code",
   "execution_count": 138,
   "id": "998cd5d8",
   "metadata": {},
   "outputs": [],
   "source": [
    "comercio_bcn = pd.concat([centros_comerciales, galerias, mercats_fires, mercats_municipals])\n",
    "comercio_cols = ['register_id','name','addresses_road_name','addresses_start_street_number','addresses_district_name','addresses_zip_code','geo_epgs_4326_x','geo_epgs_4326_y','Tipo_Centro_Comercio']\n",
    "filtered_comercio = pd.DataFrame(comercio_bcn[comercio_cols])\n",
    "filtered_comercio"
   ]
  },
  {
   "attachments": {},
   "cell_type": "markdown",
   "id": "6b58c8d5",
   "metadata": {},
   "source": []
  }
 ],
 "metadata": {
  "kernelspec": {
   "display_name": "Python 3 (ipykernel)",
   "language": "python",
   "name": "python3"
  },
  "language_info": {
   "codemirror_mode": {
    "name": "ipython",
    "version": 3
   },
   "file_extension": ".py",
   "mimetype": "text/x-python",
   "name": "python",
   "nbconvert_exporter": "python",
   "pygments_lexer": "ipython3",
   "version": "3.10.6"
  },
  "toc": {
   "base_numbering": 1,
   "nav_menu": {},
   "number_sections": true,
   "sideBar": true,
   "skip_h1_title": false,
   "title_cell": "Table of Contents",
   "title_sidebar": "Contents",
   "toc_cell": false,
   "toc_position": {},
   "toc_section_display": true,
   "toc_window_display": false
  }
 },
 "nbformat": 4,
 "nbformat_minor": 5
}
